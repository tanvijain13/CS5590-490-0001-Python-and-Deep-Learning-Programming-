{
  "nbformat": 4,
  "nbformat_minor": 0,
  "metadata": {
    "colab": {
      "name": "DL_ICP4.ipynb",
      "provenance": []
    },
    "kernelspec": {
      "name": "python3",
      "display_name": "Python 3"
    },
    "accelerator": "GPU"
  },
  "cells": [
    {
      "cell_type": "code",
      "metadata": {
        "id": "hbBSzvKQ2CtU",
        "colab_type": "code",
        "colab": {
          "base_uri": "https://localhost:8080/",
          "height": 1000
        },
        "outputId": "71f74746-75ca-4367-85bd-a051c4e56d06"
      },
      "source": [
        "import numpy\n",
        "from keras.datasets import cifar10\n",
        "from keras.models import Sequential\n",
        "from keras.layers import Dense\n",
        "from keras.layers import Dropout\n",
        "from keras.layers import Flatten\n",
        "from keras.constraints import maxnorm\n",
        "from keras.optimizers import SGD\n",
        "from keras.layers.convolutional import Conv2D\n",
        "from keras.layers.convolutional import MaxPooling2D\n",
        "from keras.utils import np_utils\n",
        "from keras import backend as K\n",
        "from keras.models import load_model\n",
        "from keras.callbacks import TensorBoard\n",
        "import matplotlib.pyplot as plt\n",
        "from time import time\n",
        "K.common.image_dim_ordering()\n",
        "\n",
        "# fix random seed for reproducibility\n",
        "seed = 7\n",
        "numpy.random.seed(seed)\n",
        "# load data\n",
        "(X_train, y_train), (X_test, y_test) = cifar10.load_data()\n",
        "# normalize inputs from 0-255 to 0.0-1.0\n",
        "X_train = X_train.astype('float32')\n",
        "X_test = X_test.astype('float32')\n",
        "X_train = X_train / 255.0\n",
        "X_test = X_test / 255.0\n",
        "# one hot encode outputs\n",
        "y_train = np_utils.to_categorical(y_train)\n",
        "y_test = np_utils.to_categorical(y_test)\n",
        "num_classes = y_test.shape[1]\n",
        "print(num_classes)\n",
        "\n",
        "#TASK 1\n",
        "# Create the model\n",
        "model = Sequential()\n",
        "model.add(Conv2D(32, (3, 3), input_shape=(32, 32, 3), padding='same', activation='relu', kernel_constraint=maxnorm(3)))\n",
        "model.add(Dropout(0.2))\n",
        "model.add(Conv2D(32, (3, 3), activation='relu', padding='same', kernel_constraint=maxnorm(3)))\n",
        "model.add(MaxPooling2D(pool_size=(2, 2)))\n",
        "model.add(Conv2D(64, (3, 3), activation='relu', padding='same', kernel_constraint=maxnorm(3)))\n",
        "model.add(Dropout(0.2))\n",
        "model.add(Conv2D(64, (3, 3), activation='relu', padding='same', kernel_constraint=maxnorm(3)))\n",
        "model.add(MaxPooling2D(pool_size=(2, 2)))\n",
        "model.add(Conv2D(128, (3, 3), activation='relu', padding='same', kernel_constraint=maxnorm(3)))\n",
        "model.add(Dropout(0.2))\n",
        "model.add(Conv2D(128, (3, 3), activation='relu', padding='same', kernel_constraint=maxnorm(3)))\n",
        "model.add(MaxPooling2D(pool_size=(2, 2)))\n",
        "model.add(Flatten())\n",
        "model.add(Dropout(0.2))\n",
        "model.add(Dense(1024, activation='relu', kernel_constraint=maxnorm(3)))\n",
        "model.add(Dropout(0.2))\n",
        "model.add(Dense(512, activation='relu', kernel_constraint=maxnorm(3)))\n",
        "model.add(Dropout(0.2))\n",
        "model.add(Dense(num_classes, activation='softmax'))\n",
        "\n",
        "# Compile model\n",
        "epochs = 10\n",
        "lrate = 0.01\n",
        "decay = lrate/epochs\n",
        "sgd = SGD(lr=lrate, momentum=0.9, decay=decay, nesterov=False)\n",
        "model.compile(loss='categorical_crossentropy', optimizer=sgd, metrics=['accuracy'])\n",
        "print(model.summary())\n",
        "\n",
        "\n",
        "tensorborad = TensorBoard(log_dir=\"logs/{}\".format(time()))\n",
        "\n",
        "# Fit the model\n",
        "history = model.fit(X_train, y_train, validation_data=(X_test, y_test), epochs=epochs, batch_size=32, callbacks=[tensorborad])\n",
        "\n",
        "model.save('cifar10.h5')\n",
        "\n",
        "model = load_model('cifar10.h5')\n",
        "# Final evaluation of the model\n",
        "scores = model.evaluate(X_test, y_test, verbose=0)\n",
        "print(\"Accuracy: %.2f%%\" % (scores[1]*100))\n",
        "\n",
        "\n",
        "\n",
        "print(X_test.shape)"
      ],
      "execution_count": 1,
      "outputs": [
        {
          "output_type": "stream",
          "text": [
            "Using TensorFlow backend.\n"
          ],
          "name": "stderr"
        },
        {
          "output_type": "stream",
          "text": [
            "Downloading data from https://www.cs.toronto.edu/~kriz/cifar-10-python.tar.gz\n",
            "170500096/170498071 [==============================] - 13s 0us/step\n",
            "10\n",
            "Model: \"sequential_1\"\n",
            "_________________________________________________________________\n",
            "Layer (type)                 Output Shape              Param #   \n",
            "=================================================================\n",
            "conv2d_1 (Conv2D)            (None, 32, 32, 32)        896       \n",
            "_________________________________________________________________\n",
            "dropout_1 (Dropout)          (None, 32, 32, 32)        0         \n",
            "_________________________________________________________________\n",
            "conv2d_2 (Conv2D)            (None, 32, 32, 32)        9248      \n",
            "_________________________________________________________________\n",
            "max_pooling2d_1 (MaxPooling2 (None, 16, 16, 32)        0         \n",
            "_________________________________________________________________\n",
            "conv2d_3 (Conv2D)            (None, 16, 16, 64)        18496     \n",
            "_________________________________________________________________\n",
            "dropout_2 (Dropout)          (None, 16, 16, 64)        0         \n",
            "_________________________________________________________________\n",
            "conv2d_4 (Conv2D)            (None, 16, 16, 64)        36928     \n",
            "_________________________________________________________________\n",
            "max_pooling2d_2 (MaxPooling2 (None, 8, 8, 64)          0         \n",
            "_________________________________________________________________\n",
            "conv2d_5 (Conv2D)            (None, 8, 8, 128)         73856     \n",
            "_________________________________________________________________\n",
            "dropout_3 (Dropout)          (None, 8, 8, 128)         0         \n",
            "_________________________________________________________________\n",
            "conv2d_6 (Conv2D)            (None, 8, 8, 128)         147584    \n",
            "_________________________________________________________________\n",
            "max_pooling2d_3 (MaxPooling2 (None, 4, 4, 128)         0         \n",
            "_________________________________________________________________\n",
            "flatten_1 (Flatten)          (None, 2048)              0         \n",
            "_________________________________________________________________\n",
            "dropout_4 (Dropout)          (None, 2048)              0         \n",
            "_________________________________________________________________\n",
            "dense_1 (Dense)              (None, 1024)              2098176   \n",
            "_________________________________________________________________\n",
            "dropout_5 (Dropout)          (None, 1024)              0         \n",
            "_________________________________________________________________\n",
            "dense_2 (Dense)              (None, 512)               524800    \n",
            "_________________________________________________________________\n",
            "dropout_6 (Dropout)          (None, 512)               0         \n",
            "_________________________________________________________________\n",
            "dense_3 (Dense)              (None, 10)                5130      \n",
            "=================================================================\n",
            "Total params: 2,915,114\n",
            "Trainable params: 2,915,114\n",
            "Non-trainable params: 0\n",
            "_________________________________________________________________\n",
            "None\n",
            "Train on 50000 samples, validate on 10000 samples\n",
            "Epoch 1/10\n",
            "50000/50000 [==============================] - 25s 509us/step - loss: 1.8684 - accuracy: 0.3084 - val_loss: 1.5123 - val_accuracy: 0.4452\n",
            "Epoch 2/10\n",
            "50000/50000 [==============================] - 18s 370us/step - loss: 1.4511 - accuracy: 0.4708 - val_loss: 1.3700 - val_accuracy: 0.5100\n",
            "Epoch 3/10\n",
            "50000/50000 [==============================] - 18s 369us/step - loss: 1.2859 - accuracy: 0.5340 - val_loss: 1.2025 - val_accuracy: 0.5646\n",
            "Epoch 4/10\n",
            "50000/50000 [==============================] - 19s 375us/step - loss: 1.1789 - accuracy: 0.5771 - val_loss: 1.1291 - val_accuracy: 0.5975\n",
            "Epoch 5/10\n",
            "50000/50000 [==============================] - 19s 375us/step - loss: 1.0974 - accuracy: 0.6059 - val_loss: 1.0648 - val_accuracy: 0.6198\n",
            "Epoch 6/10\n",
            "50000/50000 [==============================] - 19s 373us/step - loss: 1.0316 - accuracy: 0.6310 - val_loss: 0.9980 - val_accuracy: 0.6418\n",
            "Epoch 7/10\n",
            "50000/50000 [==============================] - 19s 372us/step - loss: 0.9740 - accuracy: 0.6538 - val_loss: 0.9718 - val_accuracy: 0.6571\n",
            "Epoch 8/10\n",
            "50000/50000 [==============================] - 19s 372us/step - loss: 0.9286 - accuracy: 0.6694 - val_loss: 0.9028 - val_accuracy: 0.6757\n",
            "Epoch 9/10\n",
            "50000/50000 [==============================] - 19s 376us/step - loss: 0.8909 - accuracy: 0.6846 - val_loss: 0.9119 - val_accuracy: 0.6765\n",
            "Epoch 10/10\n",
            "50000/50000 [==============================] - 19s 378us/step - loss: 0.8562 - accuracy: 0.6972 - val_loss: 0.8328 - val_accuracy: 0.7082\n",
            "Accuracy: 70.82%\n",
            "(10000, 32, 32, 3)\n"
          ],
          "name": "stdout"
        }
      ]
    },
    {
      "cell_type": "code",
      "metadata": {
        "id": "MvuqntMM4Ju_",
        "colab_type": "code",
        "colab": {
          "base_uri": "https://localhost:8080/",
          "height": 573
        },
        "outputId": "78a04c0e-b350-4e5f-c4ba-ade19ca3e17c"
      },
      "source": [
        "# TASK 3\n",
        "#plot History\n",
        "# summarize history for accuracy\n",
        "plt.plot(history.history['accuracy'])\n",
        "plt.plot(history.history['val_accuracy'])\n",
        "plt.title('model accuracy')\n",
        "plt.ylabel('accuracy')\n",
        "plt.xlabel('epoch')\n",
        "plt.legend(['train', 'test'], loc='upper left')\n",
        "plt.show()\n",
        "# summarize history for loss\n",
        "plt.plot(history.history['loss'])\n",
        "plt.plot(history.history['val_loss'])\n",
        "plt.title('model loss')\n",
        "plt.ylabel('loss')\n",
        "plt.xlabel('epoch')\n",
        "plt.legend(['train', 'test'], loc='upper right')\n",
        "plt.show()"
      ],
      "execution_count": 2,
      "outputs": [
        {
          "output_type": "display_data",
          "data": {
            "image/png": "[encoded data removed]",
            "text/plain": [
              "<Figure size 432x288 with 1 Axes>"
            ]
          },
          "metadata": {
            "tags": [],
            "needs_background": "light"
          }
        },
        {
          "output_type": "display_data",
          "data": {
            "image/png": "[encoded data removed]",
            "text/plain": [
              "<Figure size 432x288 with 1 Axes>"
            ]
          },
          "metadata": {
            "tags": [],
            "needs_background": "light"
          }
        }
      ]
    },
    {
      "cell_type": "code",
      "metadata": {
        "id": "VJtqehbt4Ui1",
        "colab_type": "code",
        "colab": {
          "base_uri": "https://localhost:8080/",
          "height": 221
        },
        "outputId": "3be069f6-4ab6-4eb4-cbf8-de3a3cc118a8"
      },
      "source": [
        "#TASK 2\n",
        "#Loading saved model\n",
        "model = load_model('cifar10.h5')\n",
        "\n",
        "#Prediction on first four of Test\n",
        "for i in range(0,4):\n",
        "    predicted_value = model.predict(X_test[[i],:])\n",
        "    predict_classes = model.predict_classes(X_test[[i],:])\n",
        "    actual_value = y_test[[i],:]\n",
        "    print(\"Actual Value for :\" + str(i+1) + ' Image ' + str(numpy.argmax(actual_value)))\n",
        "    print(\"Predicted Value for \" + str(i+1) + ' Image ' + str(predict_classes[0])+'\\n')\n"
      ],
      "execution_count": 3,
      "outputs": [
        {
          "output_type": "stream",
          "text": [
            "Actual Value for :1 Image 3\n",
            "Predicted Value for 1 Image 3\n",
            "\n",
            "Actual Value for :2 Image 8\n",
            "Predicted Value for 2 Image 8\n",
            "\n",
            "Actual Value for :3 Image 8\n",
            "Predicted Value for 3 Image 8\n",
            "\n",
            "Actual Value for :4 Image 0\n",
            "Predicted Value for 4 Image 0\n",
            "\n"
          ],
          "name": "stdout"
        }
      ]
    }
  ]
}